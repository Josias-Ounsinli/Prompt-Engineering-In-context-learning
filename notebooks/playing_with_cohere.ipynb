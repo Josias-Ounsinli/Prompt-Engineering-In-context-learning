{
 "cells": [
  {
   "cell_type": "markdown",
   "metadata": {},
   "source": [
    "## Field extractions predictions\n",
    "\n",
    "### Examples of extractions"
   ]
  },
  {
   "cell_type": "code",
   "execution_count": 1,
   "metadata": {},
   "outputs": [],
   "source": [
    "import cohere"
   ]
  },
  {
   "cell_type": "code",
   "execution_count": 2,
   "metadata": {},
   "outputs": [
    {
     "name": "stdout",
     "output_type": "stream",
     "text": [
      "Prediction: \n",
      "DIPLOMA: Bachelor\n",
      "DIPLOMA_MAJOR: Computer Science\n",
      "EXPERIENCE: 10+ years\n",
      "SKILLS: leading, product design, release automation engineering, software engineering, technical management,\n"
     ]
    }
   ],
   "source": [
    "co = cohere.Client('zXuOLIqQurZVDoERKbVcXjxlVJ41oFBW5Gdky02p')\n",
    "response = co.generate(\n",
    "  model='xlarge',\n",
    "  prompt='Description: \\\"Bachelor\\'s degree in Mechanical Engineering or Physical Science 3+ years track record of developing or specifying fiber optic cables and connector related products Knowledge of fiber optic component, cabling, and interconnect products, technologies, and standards Experience in statistical data analysis Experience with product life cycle management (PLM) process Experience providing solutions to problems and meeting deadlines Experience engaging stakeholders PREFERRED Advanced degree Experience using a software tool for statistical data analysis such as JMP Experience using Agile as product life-cycle management tool Data center or other mission critical development experience\\\"\\nDIPLOMA: Bachelor\\nDIPLOMA_MAJOR: Mechanical Engineering, Physical Science\\nEXPERIENCE: 3+ years\\nSKILLS: developing, fiber optic cables, connector related products\\n--\\nDescription: \\\"10+ years of software engineering work experience. Technical experience in release automation engineering, CI/CD or related roles. Experience building and leading a software organization through product design, delivery and commercialization of consumer electronics devices. Experience recruiting and managing technical teams, including performance management. BS/MS in Computer Science. Experience in leading timeline, multi-partner initiatives. Organizational communication and coordination experience. PREFERRED 5+ years of experience with hands-on technical management, release engineering, tools engineering, DevOps, or related area.\\\"',\n",
    "  max_tokens=50,\n",
    "  temperature=0.9,\n",
    "  k=0,\n",
    "  p=0.75,\n",
    "  frequency_penalty=0,\n",
    "  presence_penalty=0,\n",
    "  stop_sequences=[],\n",
    "  return_likelihoods='NONE')\n",
    "print('Prediction: {}'.format(response.generations[0].text))"
   ]
  },
  {
   "cell_type": "code",
   "execution_count": 3,
   "metadata": {},
   "outputs": [
    {
     "name": "stdout",
     "output_type": "stream",
     "text": [
      "Prediction: \n",
      "DIPLOMA: Bachelor\n",
      "DIPLOMA_MAJOR: Computer Science\n",
      "EXPERIENCE: 3+ years\n",
      "SKILLS: Swift, Objective-C, iOS internals, iOS, UI/\n"
     ]
    }
   ],
   "source": [
    "co = cohere.Client('zXuOLIqQurZVDoERKbVcXjxlVJ41oFBW5Gdky02p')\n",
    "response = co.generate(\n",
    "  model='xlarge',\n",
    "  prompt='Description: \\\"Bachelor\\'s degree in Mechanical Engineering or Physical Science 3+ years track record of developing or specifying fiber optic cables and connector related products Knowledge of fiber optic component, cabling, and interconnect products, technologies, and standards Experience in statistical data analysis Experience with product life cycle management (PLM) process Experience providing solutions to problems and meeting deadlines Experience engaging stakeholders PREFERRED Advanced degree Experience using a software tool for statistical data analysis such as JMP Experience using Agile as product life-cycle management tool Data center or other mission critical development experience\\\"\\nDIPLOMA: Bachelor\\nDIPLOMA_MAJOR: Mechanical Engineering, Physical Science\\nEXPERIENCE: 3+ years\\nSKILLS: developing, fiber optic cables, connector related products\\n--\\n\\nDescription: \\\"3+ years Swift & Objective-C and experience with iOS internals Experience building an entire app from scratch and ideally a portfolio of apps featured in the App Store Someone who knows every trick in the book on UI transitions, network communication and memory/battery efficiency Strong UI/design skill experience is a plus\\\"',\n",
    "  max_tokens=50,\n",
    "  temperature=0.9,\n",
    "  k=0,\n",
    "  p=0.75,\n",
    "  frequency_penalty=0,\n",
    "  presence_penalty=0,\n",
    "  stop_sequences=[],\n",
    "  return_likelihoods='NONE')\n",
    "print('Prediction: {}'.format(response.generations[0].text))"
   ]
  },
  {
   "cell_type": "code",
   "execution_count": 4,
   "metadata": {},
   "outputs": [
    {
     "name": "stdout",
     "output_type": "stream",
     "text": [
      "Prediction: \n",
      "DIPLOMA: Bachelor\n",
      "DIPLOMA_MAJOR: Computer Science\n",
      "EXPERIENCE: 8+ years\n",
      "SKILLS: software engineering, leadership, people management, communication/presentations, strategic think\n"
     ]
    }
   ],
   "source": [
    "co = cohere.Client('zXuOLIqQurZVDoERKbVcXjxlVJ41oFBW5Gdky02p')\n",
    "response = co.generate(\n",
    "  model='xlarge',\n",
    "  prompt='Description: \\\"Bachelor\\'s degree in Mechanical Engineering or Physical Science 3+ years track record of developing or specifying fiber optic cables and connector related products Knowledge of fiber optic component, cabling, and interconnect products, technologies, and standards Experience in statistical data analysis Experience with product life cycle management (PLM) process Experience providing solutions to problems and meeting deadlines Experience engaging stakeholders PREFERRED Advanced degree Experience using a software tool for statistical data analysis such as JMP Experience using Agile as product life-cycle management tool Data center or other mission critical development experience\\\"\\nDIPLOMA: Bachelor\\nDIPLOMA_MAJOR: Mechanical Engineering, Physical Science\\nEXPERIENCE: 3+ years\\nSKILLS: developing, fiber optic cables, connector related products\\n--\\nDescription: \\\"8+ years experience in software engineering leadership 5+ years people management experience including managing leaders and managing remotely across regions Strategic thinker with proven track record of transforming operations to provide customer experience through innovation and improvement Track record of working with VP, C-level Executives Experience deploying operational support models across enterprise organizations Communication/presentations experience Experience working with all levels of management internally and externally Experience meeting objectives in an entrepreneurial environment Collaboration and relationship-building experience BA/BS degree or higher\\\"',\n",
    "  max_tokens=50,\n",
    "  temperature=0.9,\n",
    "  k=0,\n",
    "  p=0.75,\n",
    "  frequency_penalty=0,\n",
    "  presence_penalty=0,\n",
    "  stop_sequences=[],\n",
    "  return_likelihoods='NONE')\n",
    "print('Prediction: {}'.format(response.generations[0].text))"
   ]
  },
  {
   "cell_type": "code",
   "execution_count": 5,
   "metadata": {},
   "outputs": [
    {
     "name": "stdout",
     "output_type": "stream",
     "text": [
      "Prediction: \n",
      "DIPLOMA: Bachelor\n",
      "DIPLOMA_MAJOR: Computer Science\n",
      "EXPERIENCE: 7+ years\n",
      "SKILLS: C++, C++11, software, real-time, software development\n"
     ]
    }
   ],
   "source": [
    "co = cohere.Client('zXuOLIqQurZVDoERKbVcXjxlVJ41oFBW5Gdky02p')\n",
    "response = co.generate(\n",
    "  model='xlarge',\n",
    "  prompt='Description: \\\"Bachelor\\'s degree in Mechanical Engineering or Physical Science 3+ years track record of developing or specifying fiber optic cables and connector related products Knowledge of fiber optic component, cabling, and interconnect products, technologies, and standards Experience in statistical data analysis Experience with product life cycle management (PLM) process Experience providing solutions to problems and meeting deadlines Experience engaging stakeholders PREFERRED Advanced degree Experience using a software tool for statistical data analysis such as JMP Experience using Agile as product life-cycle management tool Data center or other mission critical development experience\\\"\\nDIPLOMA: Bachelor\\nDIPLOMA_MAJOR: Mechanical Engineering, Physical Science\\nEXPERIENCE: 3+ years\\nSKILLS: developing, fiber optic cables, connector related products\\n--\\nDescription: \\\"BS degree in Computer Science or related field. 7+ years C++ experience, including C++11 features and principles. 5+ years experience creating software for real-time environments such as games or robotics. 2+ years experience managing software engineers. Proven track record of software development, including shipping one or more products on large code bases that span platforms and tools. Problem solving and optimization experience. Communication experience and demonstrated experience working across disciplines and teams to drive solutions. PREFERRED Hands-on experience with 3D computer vision algorithms including Calibration, SLAM, Reconstruction, Mapping, Localization, Sensor Fusion, State Estimation and Image Processing Experience with designing (products or open-source/git software) of inertial/optical sensing devices Publication in leading workshops or conferences such as CVPR, ECCV, ICCV, SIGGRAPH, ICCP, RSS, ICRA, etc.\\\"',\n",
    "  max_tokens=50,\n",
    "  temperature=0.9,\n",
    "  k=0,\n",
    "  p=0.75,\n",
    "  frequency_penalty=0,\n",
    "  presence_penalty=0,\n",
    "  stop_sequences=[],\n",
    "  return_likelihoods='NONE')\n",
    "print('Prediction: {}'.format(response.generations[0].text))"
   ]
  },
  {
   "cell_type": "markdown",
   "metadata": {},
   "source": [
    "## Scores prediction\n",
    "\n",
    "### Example of prediction"
   ]
  },
  {
   "cell_type": "code",
   "execution_count": 8,
   "metadata": {},
   "outputs": [],
   "source": [
    "sys.path.append(os.path.abspath(os.path.join(\"../scripts\")))\n",
    "\n",
    "import load_data\n",
    "from clean_data import dataCleaning"
   ]
  },
  {
   "cell_type": "code",
   "execution_count": 7,
   "metadata": {},
   "outputs": [],
   "source": [
    "data = load_data.load_excel_file('data/Example_data.xlsx', './', 'Sv1')"
   ]
  },
  {
   "cell_type": "code",
   "execution_count": 11,
   "metadata": {},
   "outputs": [],
   "source": [
    "data = dataCleaning(data).clean_text('Title')\n",
    "data = dataCleaning(data).clean_text('Description')\n",
    "data = dataCleaning(data).clean_text('Body')"
   ]
  },
  {
   "cell_type": "code",
   "execution_count": 12,
   "metadata": {},
   "outputs": [
    {
     "data": {
      "text/html": [
       "<div>\n",
       "<style scoped>\n",
       "    .dataframe tbody tr th:only-of-type {\n",
       "        vertical-align: middle;\n",
       "    }\n",
       "\n",
       "    .dataframe tbody tr th {\n",
       "        vertical-align: top;\n",
       "    }\n",
       "\n",
       "    .dataframe thead th {\n",
       "        text-align: right;\n",
       "    }\n",
       "</style>\n",
       "<table border=\"1\" class=\"dataframe\">\n",
       "  <thead>\n",
       "    <tr style=\"text-align: right;\">\n",
       "      <th></th>\n",
       "      <th>Domain</th>\n",
       "      <th>Title</th>\n",
       "      <th>Description</th>\n",
       "      <th>Body</th>\n",
       "      <th>Analyst_Average_Score</th>\n",
       "    </tr>\n",
       "  </thead>\n",
       "  <tbody>\n",
       "    <tr>\n",
       "      <th>0</th>\n",
       "      <td>rassegnastampa.news</td>\n",
       "      <td>boris johnson using a taxpayerfunded jet for a...</td>\n",
       "      <td>…often trigger a protest vote that can upset…t...</td>\n",
       "      <td>boris johnson using a taxpayerfunded jet for a...</td>\n",
       "      <td>0.0</td>\n",
       "    </tr>\n",
       "    <tr>\n",
       "      <th>1</th>\n",
       "      <td>twitter.com</td>\n",
       "      <td>stumbled across an interesting case a woman fa...</td>\n",
       "      <td>stumbled across an interesting case a woman fa...</td>\n",
       "      <td>stumbled across an interesting case a woman fa...</td>\n",
       "      <td>0.0</td>\n",
       "    </tr>\n",
       "    <tr>\n",
       "      <th>2</th>\n",
       "      <td>atpe-tchad.info</td>\n",
       "      <td>marché résines dans les peintures et revêtemen...</td>\n",
       "      <td>…covid19…covid…covid…covid19 et post covid…cov...</td>\n",
       "      <td>le rapport d’étude de marché résines dans les ...</td>\n",
       "      <td>0.0</td>\n",
       "    </tr>\n",
       "    <tr>\n",
       "      <th>3</th>\n",
       "      <td>badbluetech.bitnamiapp.com</td>\n",
       "      <td>ai drives data analytics surge study finds</td>\n",
       "      <td>…hate raiders linked to automated harassment c...</td>\n",
       "      <td>how to drive the funnel through content market...</td>\n",
       "      <td>0.0</td>\n",
       "    </tr>\n",
       "    <tr>\n",
       "      <th>4</th>\n",
       "      <td>kryptogazette.com</td>\n",
       "      <td>triacetin vertrieb markt 2021 globale unterneh...</td>\n",
       "      <td>…abschnitten und endanwendungen  organisatione...</td>\n",
       "      <td>global triacetin vertriebmarkt 2021 von herste...</td>\n",
       "      <td>0.0</td>\n",
       "    </tr>\n",
       "  </tbody>\n",
       "</table>\n",
       "</div>"
      ],
      "text/plain": [
       "                       Domain  \\\n",
       "0         rassegnastampa.news   \n",
       "1                 twitter.com   \n",
       "2             atpe-tchad.info   \n",
       "3  badbluetech.bitnamiapp.com   \n",
       "4           kryptogazette.com   \n",
       "\n",
       "                                               Title  \\\n",
       "0  boris johnson using a taxpayerfunded jet for a...   \n",
       "1  stumbled across an interesting case a woman fa...   \n",
       "2  marché résines dans les peintures et revêtemen...   \n",
       "3         ai drives data analytics surge study finds   \n",
       "4  triacetin vertrieb markt 2021 globale unterneh...   \n",
       "\n",
       "                                         Description  \\\n",
       "0  …often trigger a protest vote that can upset…t...   \n",
       "1  stumbled across an interesting case a woman fa...   \n",
       "2  …covid19…covid…covid…covid19 et post covid…cov...   \n",
       "3  …hate raiders linked to automated harassment c...   \n",
       "4  …abschnitten und endanwendungen  organisatione...   \n",
       "\n",
       "                                                Body  Analyst_Average_Score  \n",
       "0  boris johnson using a taxpayerfunded jet for a...                    0.0  \n",
       "1  stumbled across an interesting case a woman fa...                    0.0  \n",
       "2  le rapport d’étude de marché résines dans les ...                    0.0  \n",
       "3  how to drive the funnel through content market...                    0.0  \n",
       "4  global triacetin vertriebmarkt 2021 von herste...                    0.0  "
      ]
     },
     "execution_count": 12,
     "metadata": {},
     "output_type": "execute_result"
    }
   ],
   "source": [
    "## Remove unnecessary columns\n",
    "data_use = data[['Domain', 'Title', \"Description\", 'Body', 'Analyst_Average_Score']]\n",
    "data_use.head()"
   ]
  },
  {
   "cell_type": "code",
   "execution_count": 48,
   "metadata": {},
   "outputs": [
    {
     "name": "stdout",
     "output_type": "stream",
     "text": [
      "Domain: eminetra.co.za\n",
      "Title: the construction sector is expected to be boosted by riots and looting repairs\n",
      "Description: …additional spending on buildings repairs and security in kwazulunatal and houten could boost construction activity in the third…starting block” he hopes that further relaxation of blockade regulations and tax jackpots against the backdrop of record…\n",
      "Body: construction activity grew steadily by 4 in the second quarter of the first three months of 2021 and recovered quickly and significantly in the same quarter of 2020 due to the low base effect of covid famous economist dr roerofubota said yesterday in the announcement of the afrimat construction index aci and on behalf of afrimat he said aci reached 1103 points in the second half of 2021 and reached a 55 rebound compared to the same quarter last year  the construction industry continues to improve he said in a telephone interview quarterly improvements were driven by a significant increase in employment in the construction sector and sales of building materials since the second quarter of 2020 the construction industry has created approximately 156000 jobs bota said other promising improvements in the building blocks are the value of the building plans passed and the value of the buildings completed by the larger municipalities of the country “unfortunately the postpandemic construction recovery remains incomplete with the second quarter 68 behind covid the same quarter of 2019” but bota said he was confident that it would continue damage to buildings from july riots and looting and potential additional spending on buildings repairs and security in kwazulunatal and houten could boost construction activity in the third and perhaps fourth quarters he said it was highly sexual  inflation has begun to fall in recent months well below the south african reserve bank’s upper inflation target this means that interest rates may remain low until 2022 “a 30 reduction in the cost of mortgages at prime rates has already helped us to return to higher home prices and increase the value of new mortgages” he said in addition two business confidences recorded an immediate recovery from the decline following the july unrest according to bota several companies that have a strong foothold in the construction sector’s value chain have recently released impressive financial results examples include jselisted cashbuild and murray  roberts which show that purchase orders have reached a new record of r607 billion “but now all eyes will focus on the government’s reconstruction and reconstruction plans it’s far behind the starting block” he hopes that further relaxation of blockade regulations and tax jackpots against the backdrop of record mining sector interests will contribute to the faster implementation of this plan andries van heerden ceo of afrimat is slowly but feeling positive economic momentum within the group to accelerate the longawaited infrastructure project ready to run the business he said he needed momentum and commitment from the government the construction sector is expected to be boosted by riots and looting repairs source linkwwwiolcozabusinessreportcompaniesconstructionsectorprojectedtobeboostedbyriotingandlootingrepairs0d6b4e8fc4564f708b937c8fc591d1c1 the construction sector is expected to be boosted by riots and looting repairs\n",
      "Analyst_Average_Score: 1.66\n",
      "--\n",
      "Domain: news24.com\n",
      "Title: news24com  court dismisses attempt by former eskom ceo to punish woman for tweet\n",
      "Description: …lawsuit against public participation designed to intimidate her johannesburg high court acting judge adele de wet agreed she…sphithiphithi evaluator in court for allegedly inciting public violence in october 2020 city press posted an article on…\n",
      "Body:  former eskom ceo matshela moses koko sought r500 000 in damages and an apology from a 72yearold woman  barbara tanton responded on twitter to kokos tweet about a city press article  the judge dismissed the application as an abuse of court and awarded punitive costs against koko the 72yearold principal of a gauteng preschool successfully fought off an attempt by former eskom ceo matshela moses koko to seek r500 000 in damages for a tweet she posted about him koko sought an apology a restriction an interdict and r500 000 in damages for defamation from barbara tanton tantons lawyers said his legal action was nothing more than a slapp suit strategic lawsuit against public participation designed to intimidate her johannesburg high court acting judge adele de wet agreed she dismissed the application and ordered koko to pay costs on a punitive scale the judge said kokos motive was not to redress any wrong but to punish tanton such conduct is vexatious she said the judge noted that koko had been placed on special leave in may 2017 pending the outcome of an investigation into allegations of breaching his fiduciary duties also read  unrestsa twitters sphithiphithi evaluator in court for allegedly inciting public violence in october 2020 city press posted an article on twitter naming koko for having refused to sign off on 27 contracts with independent power providers ipps which had already been negotiated with the government on twitter koko justified himself stating eskom could generate electricity for 42c a unit but was obliged to buy from ipps for r213 tanton commented on twitter koko sent her a letter the following month demanding that she unconditionally retract and apologise that she desist from making further defamatory statements and that she pay him r500 000 tanton removed the tweet in early january 2021 and closed her twitter account koko launched court proceedings the same month in february tantons attorney proposed that she reopen her twitter account and publish a retraction and an apology the attorney pointed out claims for damages could not be done through motion proceedings and there were material disputes of facts which would have to be aired in court koko ignored the olive branch extended and tanton was forced to submit an opposing affidavit raising various defences including that this was slapp litigation and that the tweet was fair comment true and in the public interest koko did not file any further documents and the matter was set down on the court roll by tantons attorneys when the matter came before de wet koko said he only wanted an order that tanton pay his legal costs because by removing the tweet tanton had conceded tantons lawyers argued that koko had an improper motive that his slapp against her was unmasked during a radio interview shortly after he launched the application in which he said she tanton needs a big klap so that others can learn that the time for impunity is gone the judge said koko had in his initial affidavit taken great pains to demonstrate the umbrage he took against the appalling manner in which tanton was vilifying him de wet said tanton had been forced to oppose the application and deliver very substantial opposing papers the judge said tantons advocate had submitted that koko having been the subject of numerous lessthancomplimentarytweets over many years had carefully selected his client as a strategic target for a slapp knowing that she did not possess equal means the advocate had argued that the threefold purpose of a slapp had been achieved to silence her to punish her with exorbitant legal costs which she can ill afford and to deter other citizens adriaan basson  why i will no longer tweet the judge said kokos behaviour suggested that he was not looking to restore his reputation but wished to punish tanton and in doing so prevent public comment on his conduct finding that the application was an abuse of court the judge said kokos claim for costs against tanton was only raised belatedly when he realised that she was steadfast in her intention to fight him tantons attorney rupert candy said his client was very relieved about the outcome she has always been an unwilling participant in these slapp proceedings she looks forward to putting this behind her after recovering her costs\n",
      "Analyst_Average_Score:\n"
     ]
    }
   ],
   "source": [
    "prompt_pred = \"\"\n",
    "for i in range(len(data_use.iloc[7].index)):\n",
    "    prompt_pred = prompt_pred + f\"{data_use.iloc[7].index[i]}: {data_use.iloc[7][i]}\" + \"\\n\"\n",
    "\n",
    "prompt_pred = prompt_pred + \"--\\n\"\n",
    "\n",
    "for i in range(len(data_use.iloc[8].index) - 1):\n",
    "    prompt_pred = prompt_pred + f\"{data_use.iloc[8].index[i]}: {data_use.iloc[8][i]}\" + \"\\n\"\n",
    "\n",
    "prompt_pred += f\"{data_use.iloc[8].index[4]}:\"\n",
    "\n",
    "print(prompt_pred)"
   ]
  },
  {
   "cell_type": "code",
   "execution_count": 49,
   "metadata": {},
   "outputs": [
    {
     "name": "stdout",
     "output_type": "stream",
     "text": [
      "Prediction:  1.58\n",
      "--\n",
      "\n"
     ]
    }
   ],
   "source": [
    "co = cohere.Client('zXuOLIqQurZVDoERKbVcXjxlVJ41oFBW5Gdky02p')\n",
    "response = co.generate(\n",
    "  model='xlarge',\n",
    "  prompt= prompt_pred,\n",
    "  max_tokens=50,\n",
    "  temperature=0.9,\n",
    "  k=0,\n",
    "  p=0.75,\n",
    "  frequency_penalty=0,\n",
    "  presence_penalty=0,\n",
    "  stop_sequences=[\"--\\n\"],\n",
    "  return_likelihoods='NONE')\n",
    "print('Prediction: {}'.format(response.generations[0].text))"
   ]
  }
 ],
 "metadata": {
  "kernelspec": {
   "display_name": "Python 3.10.4 64-bit",
   "language": "python",
   "name": "python3"
  },
  "language_info": {
   "codemirror_mode": {
    "name": "ipython",
    "version": 3
   },
   "file_extension": ".py",
   "mimetype": "text/x-python",
   "name": "python",
   "nbconvert_exporter": "python",
   "pygments_lexer": "ipython3",
   "version": "3.10.4"
  },
  "orig_nbformat": 4,
  "vscode": {
   "interpreter": {
    "hash": "916dbcbb3f70747c44a77c7bcd40155683ae19c65e1c03b4aa3499c5328201f1"
   }
  }
 },
 "nbformat": 4,
 "nbformat_minor": 2
}
