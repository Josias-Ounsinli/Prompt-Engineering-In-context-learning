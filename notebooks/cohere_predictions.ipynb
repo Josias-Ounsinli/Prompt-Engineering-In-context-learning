{
 "cells": [
  {
   "cell_type": "code",
   "execution_count": 1,
   "metadata": {},
   "outputs": [],
   "source": [
    "import pandas as pd\n",
    "import sys\n",
    "import os\n",
    "\n",
    "sys.path.append(os.path.abspath(os.path.join(\"../scripts\")))\n",
    "\n",
    "import load_data\n",
    "from clean_data import dataCleaning\n",
    "\n",
    "import cohere"
   ]
  },
  {
   "cell_type": "markdown",
   "metadata": {},
   "source": [
    "# Entities extraction"
   ]
  },
  {
   "cell_type": "code",
   "execution_count": 2,
   "metadata": {},
   "outputs": [],
   "source": [
    "extract_train = pd.read_json('../data/relations_dev.txt')\n",
    "extract_test = pd.read_json('../data/relations_test.txt')"
   ]
  },
  {
   "cell_type": "code",
   "execution_count": 3,
   "metadata": {},
   "outputs": [
    {
     "data": {
      "text/html": [
       "<div>\n",
       "<style scoped>\n",
       "    .dataframe tbody tr th:only-of-type {\n",
       "        vertical-align: middle;\n",
       "    }\n",
       "\n",
       "    .dataframe tbody tr th {\n",
       "        vertical-align: top;\n",
       "    }\n",
       "\n",
       "    .dataframe thead th {\n",
       "        text-align: right;\n",
       "    }\n",
       "</style>\n",
       "<table border=\"1\" class=\"dataframe\">\n",
       "  <thead>\n",
       "    <tr style=\"text-align: right;\">\n",
       "      <th></th>\n",
       "      <th>document</th>\n",
       "      <th>tokens</th>\n",
       "      <th>relations</th>\n",
       "    </tr>\n",
       "  </thead>\n",
       "  <tbody>\n",
       "    <tr>\n",
       "      <th>0</th>\n",
       "      <td>Bachelor's degree in Mechanical Engineering or...</td>\n",
       "      <td>[{'text': 'Bachelor', 'start': 0, 'end': 8, 't...</td>\n",
       "      <td>[{'child': 4, 'head': 0, 'relationLabel': 'DEG...</td>\n",
       "    </tr>\n",
       "    <tr>\n",
       "      <th>1</th>\n",
       "      <td>10+ years of software engineering work experie...</td>\n",
       "      <td>[{'text': '10+ years', 'start': 0, 'end': 9, '...</td>\n",
       "      <td>[{'child': 4, 'head': 0, 'relationLabel': 'EXP...</td>\n",
       "    </tr>\n",
       "    <tr>\n",
       "      <th>2</th>\n",
       "      <td>3+ years Swift &amp; Objective-C and experience wi...</td>\n",
       "      <td>[{'text': '3+ years', 'start': 0, 'end': 8, 't...</td>\n",
       "      <td>[{'child': 3, 'head': 0, 'relationLabel': 'EXP...</td>\n",
       "    </tr>\n",
       "    <tr>\n",
       "      <th>3</th>\n",
       "      <td>8+ years experience in software engineering le...</td>\n",
       "      <td>[{'text': '8+ years', 'start': 0, 'end': 8, 't...</td>\n",
       "      <td>[{'child': 5, 'head': 0, 'relationLabel': 'EXP...</td>\n",
       "    </tr>\n",
       "    <tr>\n",
       "      <th>4</th>\n",
       "      <td>BS degree in Computer Science or related field...</td>\n",
       "      <td>[{'text': 'BS', 'start': 0, 'end': 2, 'token_s...</td>\n",
       "      <td>[{'child': 3, 'head': 0, 'relationLabel': 'DEG...</td>\n",
       "    </tr>\n",
       "  </tbody>\n",
       "</table>\n",
       "</div>"
      ],
      "text/plain": [
       "                                            document  \\\n",
       "0  Bachelor's degree in Mechanical Engineering or...   \n",
       "1  10+ years of software engineering work experie...   \n",
       "2  3+ years Swift & Objective-C and experience wi...   \n",
       "3  8+ years experience in software engineering le...   \n",
       "4  BS degree in Computer Science or related field...   \n",
       "\n",
       "                                              tokens  \\\n",
       "0  [{'text': 'Bachelor', 'start': 0, 'end': 8, 't...   \n",
       "1  [{'text': '10+ years', 'start': 0, 'end': 9, '...   \n",
       "2  [{'text': '3+ years', 'start': 0, 'end': 8, 't...   \n",
       "3  [{'text': '8+ years', 'start': 0, 'end': 8, 't...   \n",
       "4  [{'text': 'BS', 'start': 0, 'end': 2, 'token_s...   \n",
       "\n",
       "                                           relations  \n",
       "0  [{'child': 4, 'head': 0, 'relationLabel': 'DEG...  \n",
       "1  [{'child': 4, 'head': 0, 'relationLabel': 'EXP...  \n",
       "2  [{'child': 3, 'head': 0, 'relationLabel': 'EXP...  \n",
       "3  [{'child': 5, 'head': 0, 'relationLabel': 'EXP...  \n",
       "4  [{'child': 3, 'head': 0, 'relationLabel': 'DEG...  "
      ]
     },
     "execution_count": 3,
     "metadata": {},
     "output_type": "execute_result"
    }
   ],
   "source": [
    "extract_train.head()"
   ]
  },
  {
   "cell_type": "code",
   "execution_count": 4,
   "metadata": {},
   "outputs": [],
   "source": [
    "tokens_processed = []\n",
    "for tokl in extract_train['tokens']:\n",
    "    new = \"\"\n",
    "    for d in tokl:\n",
    "        new += f\"{d['entityLabel']}: {d['text']} \\n\"\n",
    "    \n",
    "    tokens_processed.append([new])"
   ]
  },
  {
   "cell_type": "code",
   "execution_count": 5,
   "metadata": {},
   "outputs": [],
   "source": [
    "extract_train['tokens_processed'] = tokens_processed"
   ]
  },
  {
   "cell_type": "code",
   "execution_count": 6,
   "metadata": {},
   "outputs": [],
   "source": [
    "for i in range(len(extract_train)):\n",
    "    extract_train['tokens_processed'][i] = extract_train['tokens_processed'][i][0]"
   ]
  },
  {
   "cell_type": "code",
   "execution_count": 7,
   "metadata": {},
   "outputs": [],
   "source": [
    "prompt_extraction = \"\"\n",
    "for i in range(len(extract_train)):\n",
    "    prompt_extraction += f\"Document: {extract_train.iloc[i][0]}\\n{extract_train.iloc[i][-1]}\" + \"--\" + \"\\n\""
   ]
  },
  {
   "cell_type": "markdown",
   "metadata": {},
   "source": [
    "## Field extraction in the test set"
   ]
  },
  {
   "cell_type": "code",
   "execution_count": 8,
   "metadata": {},
   "outputs": [],
   "source": [
    "for i in range(len(extract_test)):\n",
    "    extract_test['document'][i] = extract_test['document'][i].replace('\\n', '')"
   ]
  },
  {
   "cell_type": "code",
   "execution_count": 9,
   "metadata": {},
   "outputs": [
    {
     "data": {
      "text/html": [
       "<div>\n",
       "<style scoped>\n",
       "    .dataframe tbody tr th:only-of-type {\n",
       "        vertical-align: middle;\n",
       "    }\n",
       "\n",
       "    .dataframe tbody tr th {\n",
       "        vertical-align: top;\n",
       "    }\n",
       "\n",
       "    .dataframe thead th {\n",
       "        text-align: right;\n",
       "    }\n",
       "</style>\n",
       "<table border=\"1\" class=\"dataframe\">\n",
       "  <thead>\n",
       "    <tr style=\"text-align: right;\">\n",
       "      <th></th>\n",
       "      <th>document</th>\n",
       "      <th>tokens</th>\n",
       "      <th>relations</th>\n",
       "    </tr>\n",
       "  </thead>\n",
       "  <tbody>\n",
       "    <tr>\n",
       "      <th>0</th>\n",
       "      <td>Currently holding a faculty, industry, or gove...</td>\n",
       "      <td>[{'text': 'Ph.D.', 'start': 75, 'end': 80, 'to...</td>\n",
       "      <td>[{'child': 18, 'head': 14, 'relationLabel': 'D...</td>\n",
       "    </tr>\n",
       "    <tr>\n",
       "      <th>1</th>\n",
       "      <td>2+ years experience in the online advertising ...</td>\n",
       "      <td>[{'text': '2+ years', 'start': 1, 'end': 9, 't...</td>\n",
       "      <td>[{'child': 7, 'head': 1, 'relationLabel': 'EXP...</td>\n",
       "    </tr>\n",
       "    <tr>\n",
       "      <th>2</th>\n",
       "      <td>BA/BS5+ years of program or project management...</td>\n",
       "      <td>[{'text': '5+ years', 'start': 7, 'end': 15, '...</td>\n",
       "      <td>[{'child': 11, 'head': 5, 'relationLabel': 'EX...</td>\n",
       "    </tr>\n",
       "    <tr>\n",
       "      <th>3</th>\n",
       "      <td>Currently enrolled in a full-time degree progr...</td>\n",
       "      <td>[{'text': 'Ph.D.', 'start': 801, 'end': 806, '...</td>\n",
       "      <td>[{'child': 140, 'head': 137, 'relationLabel': ...</td>\n",
       "    </tr>\n",
       "    <tr>\n",
       "      <th>4</th>\n",
       "      <td>Currently enrolled in a full-time degree progr...</td>\n",
       "      <td>[{'text': 'Ph.D.', 'start': 801, 'end': 806, '...</td>\n",
       "      <td>[{'child': 140, 'head': 137, 'relationLabel': ...</td>\n",
       "    </tr>\n",
       "  </tbody>\n",
       "</table>\n",
       "</div>"
      ],
      "text/plain": [
       "                                            document  \\\n",
       "0  Currently holding a faculty, industry, or gove...   \n",
       "1  2+ years experience in the online advertising ...   \n",
       "2  BA/BS5+ years of program or project management...   \n",
       "3  Currently enrolled in a full-time degree progr...   \n",
       "4  Currently enrolled in a full-time degree progr...   \n",
       "\n",
       "                                              tokens  \\\n",
       "0  [{'text': 'Ph.D.', 'start': 75, 'end': 80, 'to...   \n",
       "1  [{'text': '2+ years', 'start': 1, 'end': 9, 't...   \n",
       "2  [{'text': '5+ years', 'start': 7, 'end': 15, '...   \n",
       "3  [{'text': 'Ph.D.', 'start': 801, 'end': 806, '...   \n",
       "4  [{'text': 'Ph.D.', 'start': 801, 'end': 806, '...   \n",
       "\n",
       "                                           relations  \n",
       "0  [{'child': 18, 'head': 14, 'relationLabel': 'D...  \n",
       "1  [{'child': 7, 'head': 1, 'relationLabel': 'EXP...  \n",
       "2  [{'child': 11, 'head': 5, 'relationLabel': 'EX...  \n",
       "3  [{'child': 140, 'head': 137, 'relationLabel': ...  \n",
       "4  [{'child': 140, 'head': 137, 'relationLabel': ...  "
      ]
     },
     "execution_count": 9,
     "metadata": {},
     "output_type": "execute_result"
    }
   ],
   "source": [
    "extract_test.head()"
   ]
  },
  {
   "cell_type": "code",
   "execution_count": 10,
   "metadata": {},
   "outputs": [],
   "source": [
    "# for i in range(len(extract_test)):\n",
    "#     prompt_test = prompt_extraction + f\"Document: {extract_test.iloc[i][0]}\\n\"\n",
    "#     print(f\"Predicition number {i+1}\")\n",
    "#     co = cohere.Client('zXuOLIqQurZVDoERKbVcXjxlVJ41oFBW5Gdky02p')\n",
    "#     response = co.generate(\n",
    "#         model='xlarge',\n",
    "#         prompt= prompt_test,\n",
    "#         max_tokens=50,\n",
    "#         temperature=0.9,\n",
    "#         k=0,\n",
    "#         p=0.75,\n",
    "#         frequency_penalty=0,\n",
    "#         presence_penalty=0,\n",
    "#         stop_sequences=[\"--\"],\n",
    "#         return_likelihoods='NONE')\n",
    "#     print('Prediction: {}'.format(response.generations[0].text))    \n",
    "#     print('-----------------------------------------------')\n"
   ]
  },
  {
   "cell_type": "code",
   "execution_count": 11,
   "metadata": {},
   "outputs": [],
   "source": [
    "# prompt_test = prompt_extraction + f\"Document: {extract_test.iloc[0][0]}\\n\"\n",
    "# print(prompt_test)"
   ]
  },
  {
   "cell_type": "markdown",
   "metadata": {},
   "source": [
    "# Score prediction"
   ]
  },
  {
   "cell_type": "code",
   "execution_count": 12,
   "metadata": {},
   "outputs": [],
   "source": [
    "data = load_data.load_excel_file('data/Example_data.xlsx', './', 'Sv1')"
   ]
  },
  {
   "cell_type": "code",
   "execution_count": 13,
   "metadata": {},
   "outputs": [],
   "source": [
    "data = dataCleaning(data).clean_text('Title')\n",
    "data = dataCleaning(data).clean_text('Description')\n",
    "data = dataCleaning(data).clean_text('Body')"
   ]
  },
  {
   "cell_type": "code",
   "execution_count": 14,
   "metadata": {},
   "outputs": [
    {
     "data": {
      "text/html": [
       "<div>\n",
       "<style scoped>\n",
       "    .dataframe tbody tr th:only-of-type {\n",
       "        vertical-align: middle;\n",
       "    }\n",
       "\n",
       "    .dataframe tbody tr th {\n",
       "        vertical-align: top;\n",
       "    }\n",
       "\n",
       "    .dataframe thead th {\n",
       "        text-align: right;\n",
       "    }\n",
       "</style>\n",
       "<table border=\"1\" class=\"dataframe\">\n",
       "  <thead>\n",
       "    <tr style=\"text-align: right;\">\n",
       "      <th></th>\n",
       "      <th>Domain</th>\n",
       "      <th>Title</th>\n",
       "      <th>Description</th>\n",
       "      <th>Body</th>\n",
       "      <th>Analyst_Average_Score</th>\n",
       "    </tr>\n",
       "  </thead>\n",
       "  <tbody>\n",
       "    <tr>\n",
       "      <th>0</th>\n",
       "      <td>rassegnastampa.news</td>\n",
       "      <td>boris johnson using a taxpayerfunded jet for a...</td>\n",
       "      <td>…often trigger a protest vote that can upset…t...</td>\n",
       "      <td>boris johnson using a taxpayerfunded jet for a...</td>\n",
       "      <td>0.0</td>\n",
       "    </tr>\n",
       "    <tr>\n",
       "      <th>1</th>\n",
       "      <td>twitter.com</td>\n",
       "      <td>stumbled across an interesting case a woman fa...</td>\n",
       "      <td>stumbled across an interesting case a woman fa...</td>\n",
       "      <td>stumbled across an interesting case a woman fa...</td>\n",
       "      <td>0.0</td>\n",
       "    </tr>\n",
       "    <tr>\n",
       "      <th>2</th>\n",
       "      <td>atpe-tchad.info</td>\n",
       "      <td>marché résines dans les peintures et revêtemen...</td>\n",
       "      <td>…covid19…covid…covid…covid19 et post covid…cov...</td>\n",
       "      <td>le rapport d’étude de marché résines dans les ...</td>\n",
       "      <td>0.0</td>\n",
       "    </tr>\n",
       "    <tr>\n",
       "      <th>3</th>\n",
       "      <td>badbluetech.bitnamiapp.com</td>\n",
       "      <td>ai drives data analytics surge study finds</td>\n",
       "      <td>…hate raiders linked to automated harassment c...</td>\n",
       "      <td>how to drive the funnel through content market...</td>\n",
       "      <td>0.0</td>\n",
       "    </tr>\n",
       "    <tr>\n",
       "      <th>4</th>\n",
       "      <td>kryptogazette.com</td>\n",
       "      <td>triacetin vertrieb markt 2021 globale unterneh...</td>\n",
       "      <td>…abschnitten und endanwendungen  organisatione...</td>\n",
       "      <td>global triacetin vertriebmarkt 2021 von herste...</td>\n",
       "      <td>0.0</td>\n",
       "    </tr>\n",
       "  </tbody>\n",
       "</table>\n",
       "</div>"
      ],
      "text/plain": [
       "                       Domain  \\\n",
       "0         rassegnastampa.news   \n",
       "1                 twitter.com   \n",
       "2             atpe-tchad.info   \n",
       "3  badbluetech.bitnamiapp.com   \n",
       "4           kryptogazette.com   \n",
       "\n",
       "                                               Title  \\\n",
       "0  boris johnson using a taxpayerfunded jet for a...   \n",
       "1  stumbled across an interesting case a woman fa...   \n",
       "2  marché résines dans les peintures et revêtemen...   \n",
       "3         ai drives data analytics surge study finds   \n",
       "4  triacetin vertrieb markt 2021 globale unterneh...   \n",
       "\n",
       "                                         Description  \\\n",
       "0  …often trigger a protest vote that can upset…t...   \n",
       "1  stumbled across an interesting case a woman fa...   \n",
       "2  …covid19…covid…covid…covid19 et post covid…cov...   \n",
       "3  …hate raiders linked to automated harassment c...   \n",
       "4  …abschnitten und endanwendungen  organisatione...   \n",
       "\n",
       "                                                Body  Analyst_Average_Score  \n",
       "0  boris johnson using a taxpayerfunded jet for a...                    0.0  \n",
       "1  stumbled across an interesting case a woman fa...                    0.0  \n",
       "2  le rapport d’étude de marché résines dans les ...                    0.0  \n",
       "3  how to drive the funnel through content market...                    0.0  \n",
       "4  global triacetin vertriebmarkt 2021 von herste...                    0.0  "
      ]
     },
     "execution_count": 14,
     "metadata": {},
     "output_type": "execute_result"
    }
   ],
   "source": [
    "## Remove unnecessary columns\n",
    "data_use = data[['Domain', 'Title', \"Description\", 'Body', 'Analyst_Average_Score']]\n",
    "data_use.head()"
   ]
  },
  {
   "cell_type": "code",
   "execution_count": 15,
   "metadata": {},
   "outputs": [],
   "source": [
    "# X = data_use.drop(['Analyst_Average_Score'], axis=1)\n",
    "# y = data_use['Analyst_Average_Score']\n",
    "\n",
    "# from sklearn.model_selection import train_test_split\n",
    "\n",
    "# X_train, X_test, y_train, y_test = train_test_split(X, y, test_size=0.2, random_state=0)\n"
   ]
  },
  {
   "cell_type": "code",
   "execution_count": 16,
   "metadata": {},
   "outputs": [],
   "source": [
    "# prompt_train = \"\"\n",
    "\n",
    "# for j in range(len(X_train)):\n",
    "#     for i in range(len(X_train.iloc[j].index)):\n",
    "#         prompt_train = prompt_train + f\"{X_train.iloc[j].index[i]}: {X_train.iloc[j][i]}\" + \"\\n\"\n",
    "#     prompt_train = prompt_train + f\"{'Analyst_Average_Score'}: {list(y_train)[j]}\" + \"\\n\"\n",
    "\n",
    "#     prompt_train = prompt_train + \"--\" + \"\\n\""
   ]
  },
  {
   "cell_type": "code",
   "execution_count": 17,
   "metadata": {},
   "outputs": [],
   "source": [
    "# for i in range(len(X_test.iloc[0].index)):\n",
    "#     prompt_pred = prompt_train + f\"{X_test.iloc[0].index[i]}: {X_test.iloc[0][i]}\" + \"\\n\"\n",
    "\n",
    "# prompt_pred += \"Analyst_Average_Score:\"\n"
   ]
  },
  {
   "cell_type": "code",
   "execution_count": 18,
   "metadata": {},
   "outputs": [],
   "source": [
    "# prompt_train = \"\"\n",
    "\n",
    "# for j in range(len(data_use)):\n",
    "#     for i in range(len(data_use.iloc[j].index)):\n",
    "#         prompt_train = prompt_train + f\"{data_use.iloc[j].index[i]}: {data_use.iloc[j][i]}\" + \"\\n\"\n",
    "\n",
    "#     prompt_train = prompt_train + \"--\" + \"\\n\"\n"
   ]
  },
  {
   "cell_type": "code",
   "execution_count": null,
   "metadata": {},
   "outputs": [],
   "source": []
  },
  {
   "cell_type": "code",
   "execution_count": null,
   "metadata": {},
   "outputs": [],
   "source": []
  }
 ],
 "metadata": {
  "kernelspec": {
   "display_name": "Python 3.10.4 64-bit",
   "language": "python",
   "name": "python3"
  },
  "language_info": {
   "codemirror_mode": {
    "name": "ipython",
    "version": 3
   },
   "file_extension": ".py",
   "mimetype": "text/x-python",
   "name": "python",
   "nbconvert_exporter": "python",
   "pygments_lexer": "ipython3",
   "version": "3.10.4"
  },
  "orig_nbformat": 4,
  "vscode": {
   "interpreter": {
    "hash": "916dbcbb3f70747c44a77c7bcd40155683ae19c65e1c03b4aa3499c5328201f1"
   }
  }
 },
 "nbformat": 4,
 "nbformat_minor": 2
}
